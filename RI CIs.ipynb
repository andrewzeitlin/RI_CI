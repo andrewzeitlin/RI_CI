{
 "cells": [
  {
   "cell_type": "markdown",
   "metadata": {},
   "source": [
    "# Confidence intervals for RI\n"
   ]
  },
  {
   "cell_type": "markdown",
   "metadata": {},
   "source": [
    "##  Basic idea\n",
    "\n",
    "Following the Good Book (Imbens and Rubin, ch. 5.7, pp. 74--75): \n",
    "- we observe realized outcomes $Y_i^{obs} = Y_i(T_i)$ and estimated tretment effect $\\hat\\tau$. For simplicity, we take this to be the test statistic about which we want to conduct RI.\n",
    "- Consider a postulated treatment effect $\\tau =\\tau_0$, possibly nonzero. \n",
    "- Under the null that $\\tau_0$ is the truth, then \n",
    "    \\begin{equation}\n",
    "    Y_i(0;\\tau_0) = \n",
    "        \\begin{cases}\n",
    "        Y_i^{obs} & \\text{ if } T_i = 0\\\\\n",
    "        Y_i^{obs}-\\tau_0 & \\text{ if } T_i = 1 \n",
    "        \\end{cases}\n",
    "    \\end{equation}\n",
    "    Here, the notation $Y_i(0;\\tau_0)$ is intended to make explicit that this is the potential outcome in the absence of treatment _as imputed under the sharp null that $\\tau = \\tau_0$_.\n",
    "- We then decide whether $\\tau_0$ is within the 95 percent confidence interval for additive treatment effects, $\\tau$, as follows:\n",
    "    1. For permutations $r=1,\\ldots,R$:\n",
    "        1. draw a treatment assignment $T_r$. \n",
    "        2. impute the outomes that would be observed under this assignment and under the sharp null that $\\tau=\\tau_0$. These are given by\n",
    "            \\begin{equation}\n",
    "            Y_i(T_r) = %\n",
    "                \\begin{cases}\n",
    "                Y_i(0;\\tau_0) & \\text{ if } T_{i,r} = 0 \\\\\n",
    "                Y_i(0;\\tau_0) + \\tau_0 & \\text{ if} T_{i,r}=1\n",
    "                \\end{cases}\n",
    "            \\end{equation}\n",
    "        3. use these imputed outcomes to estimate a draw of the test statistic, $\\hat\\tau_r$.\n",
    "    2. Define $\\hat{p}(\\tau_0)$ as the estimated $p$-value for $\\tau=\\tau_0$. If the $p-$value associated with $\\tau_0$ is greater than 0.05, then $\\tau_0$ is in the 95 percent \"Fisher\" interval; otherwise, it is outside this region."
   ]
  },
  {
   "cell_type": "markdown",
   "metadata": {},
   "source": [
    "## The basic computational problem\n",
    "\n",
    "Even if $p$-values are well behaved---in the sense that as $R\\rightarrow\\infty$ they become monotonically decreasing as $\\tau_0$ becomes farther from the truth, for finite $R$ they are subject to sampling error (where sampling here refers to sampling from the randomization distribution, not from the population of units $i$).  \n",
    "\n",
    "This means that for any candidate $\\tau_0$, we require $R$ to be fairly large in order to \n",
    "\n",
    "On the other hand, in order to pin down the Fisher interval with precision, we may need to try many candidate values of $\\tau_0$ until we obtain a sufficiently small interval $[\\underline\\tau_0,\\overline\\tau_0]$ such that $\\hat{p}(\\underline\\tau_0)$ and $\\hat{p}(\\overline\\tau_0)$ lie on alternate sides of 0.05."
   ]
  },
  {
   "cell_type": "markdown",
   "metadata": {},
   "source": [
    "## A (still) high-computational cost solution\n",
    "\n",
    "An existing literature for other types of estimators has considered the question of efficiency in the construction of CIs from permutation tests.  [Ganong and J\\\"{a}ger (JASA 2018, Appendix C)](http://economics.mit.edu/files/13020) write\n",
    "   > Relative to the existing literature, which primarily uses a grid of hypothetical effects, we implement the bisection method to find the end points of the confidence interval, which significantly improves upont the computational cost of a grid search while delivering the same level of precision.\n",
    "\n",
    "They propose the following algorithm:\n",
    "\n",
    "1. Identify a search region, between $[\\underline{S},\\overline{S}]$. \"Quantitatively, we start with a search region 10 times the size of the asymptotic confidence interval and iteratively increase the search region by a factor of 10 until we have found lower and upper bounds, $\\underline{S}$ and $\\overline{S}$, at which the null hypothesis is rejected.\"\n",
    "\n",
    "2. \"Perform bisection search in each half of search region.\"  Splitting the search region at the point estimate, $\\hat{S}$, they perform bisection search separately in the upper and lower intervals. For the interval $[\\hat{S},\\overline{S}]$:\n",
    "    1. Perform permutation test subtracting out as hypothetical effect size the mid-point, $m$, of $[\\hat{S},\\overline{S}]: m=0.5\\cdot(\\hat{S}+\\overline{S})$.\n",
    "    2. Define new interval depending on the result of the permutation test at midpoint $m$:\n",
    "        1. If the permutation test rejects at midpoint $m$, continue algorithm with interval $[\\hat{S},m]$.\n",
    "        2. If the permutation test does not reject at midpoint $m$, continue algorithm with interval $[m,\\bar{S}]$.\n",
    "    3. Repeat steps (A) and (B) above until search has converged. Define convergence if two subsequent midpoints are less than one tenth the magnitude of the asymptotical convidence interval apart from one another.\n",
    "  \n",
    "3.  \"_Identify confidence interval_. Report the confidence interval as the smallest and largest non-rejected hypothetical effect sizes from step (2) of the algorithm.\""
   ]
  },
  {
   "cell_type": "markdown",
   "metadata": {},
   "source": [
    "##  Alternatives at lower computational cost\n",
    "\n",
    "When evaluation of each permutation $r$ for each candidate values $\\tau_0$ is computationally costly, then the method outlined above may not be ideal.  Some observations that could form part of a strategy for improvement:\n",
    "\n",
    "- The goal is to find a crossing point for a continuous function with a specified degree of precision.  \n",
    "- To the extent that this function is well approximated by, say, a quadratic (on a given side of the point estimate $\\hat{S}$), then rejection rates at candidate values $\\tau_0$ that are not adjacent to the actual crossing point can \n",
    "    1. Inform guesses about where the crossing point is likely to lie; and \n",
    "    2. Improve precision for the estimate of the crossing point once all trials $r$ have been evaluated."
   ]
  },
  {
   "cell_type": "markdown",
   "metadata": {},
   "source": [
    "## Comparing alternatives for a fixed number of 'trials'"
   ]
  }
 ],
 "metadata": {
  "kernelspec": {
   "display_name": "Stata",
   "language": "stata",
   "name": "stata"
  },
  "language_info": {
   "codemirror_mode": "stata",
   "file_extension": ".do",
   "mimetype": "text/x-stata",
   "name": "stata",
   "version": "15.1"
  }
 },
 "nbformat": 4,
 "nbformat_minor": 2
}
