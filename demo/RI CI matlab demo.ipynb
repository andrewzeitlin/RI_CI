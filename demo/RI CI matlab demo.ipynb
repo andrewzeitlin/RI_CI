{
 "cells": [
  {
   "cell_type": "markdown",
   "metadata": {},
   "source": [
    "# Demonstration and unit-testing `ri_ci` for Matlab\n",
    "\n",
    "This file was tested on Matlab version 2019b, using the Jupyter `matlab_kernel`."
   ]
  },
  {
   "cell_type": "markdown",
   "metadata": {},
   "source": [
    "###  Matlab preliminaries"
   ]
  },
  {
   "cell_type": "code",
   "execution_count": 3,
   "metadata": {},
   "outputs": [
    {
     "name": "stdout",
     "output_type": "stream",
     "text": [
      "\n"
     ]
    }
   ],
   "source": [
    "rng('default'); % set seed for replicability\n",
    "addpath('../m'); % assumes we are in the /demo/ folder as pwd"
   ]
  },
  {
   "cell_type": "code",
   "execution_count": 2,
   "metadata": {},
   "outputs": [
    {
     "name": "stdout",
     "output_type": "stream",
     "text": [
      "\n"
     ]
    }
   ],
   "source": [
    "%  Parameters of the simulation\n",
    "N = 1000; % number of observations\n",
    "R = 500 ; % number of alternative permutations of the treatment assignment to be used\n",
    "tau = 1 ; % treatment effect"
   ]
  },
  {
   "cell_type": "code",
   "execution_count": null,
   "metadata": {},
   "outputs": [],
   "source": [
    "%  Generate data \n",
    "x = randn(N,1);\n",
    "y0 = x + randn(N,1);\n",
    "y1 = y0 + tau;\n",
    "t = (rand(N,1) >= 0.5 ) ; % treatment status\n",
    "y = y0 + t.*(y1 - y0) ; % switching regression\n",
    "T0 = (rand(N,R) >= 0.5) ; % set of potential randomizations\n",
    "DATA = array2table([y,t,x] , 'VariableNames',{'y','t','x'});"
   ]
  },
  {
   "cell_type": "markdown",
   "metadata": {},
   "source": [
    "##  Testing specific sharp nulls"
   ]
  },
  {
   "cell_type": "markdown",
   "metadata": {},
   "source": [
    "###  Testing null that $\\tau_0 = 0$"
   ]
  },
  {
   "cell_type": "code",
   "execution_count": null,
   "metadata": {},
   "outputs": [],
   "source": [
    "clear ri_ci\n",
    "tau0 = 0;\n",
    "[pval, ~, t1, t0] = ri_ci(DATA,{'y'},{'t'}, T0, R ,'tau0',0,'ShowMainEstimates',true);\n",
    "\n",
    "figure(1)\n",
    "clf\n",
    "hax = axes;\n",
    "hold on\n",
    "ksdensity(t0) % distribution of test statistic under the null.\n",
    "line([t1 t1],get(hax,'YLim'),'Color','red'); % [0 1])\n",
    "legend('Distribution under null','Estimated test statistic')\n",
    "hold off"
   ]
  },
  {
   "cell_type": "markdown",
   "metadata": {},
   "source": [
    "Illustrating one-sided versions of this hypothesis:"
   ]
  },
  {
   "cell_type": "code",
   "execution_count": null,
   "metadata": {},
   "outputs": [],
   "source": [
    "clear ri_ci\n",
    "leftprob = ri_ci(DATA,{'y'},{'t'},0, T0, 100,'TestSide','lefttail')\n",
    "rightprob = ri_ci(DATA,{'y'},{'t'},0, T0, 100,'TestSide','righttail')"
   ]
  },
  {
   "cell_type": "markdown",
   "metadata": {},
   "source": [
    "###  Testing sharp nulls of non-zero treatment effects (e.g., $\\tau_0=1$)\n",
    "\n",
    "_Note:_  Model displays primary estimates that are the basis of analytic standard errors; p-values in that table correspond to test that $\\tau_0=0$."
   ]
  },
  {
   "cell_type": "code",
   "execution_count": null,
   "metadata": {},
   "outputs": [],
   "source": [
    "clear ri_ci\n",
    "tau0 = 1;\n",
    "[pval ~ t1 t0] = ri_ci(DATA,{'y'},{'t'}, T0, 100,'tau0',tau0);\n",
    "\n",
    "figure(2)\n",
    "clf\n",
    "hax = axes;\n",
    "hold on\n",
    "ksdensity(t0) % distribution of test statistic under the null.\n",
    "line([t1 t1],get(hax,'YLim'),'Color','red'); % [0 1])\n",
    "legend('Distribution under null','Estimated test statistic')\n",
    "hold off"
   ]
  },
  {
   "cell_type": "markdown",
   "metadata": {},
   "source": [
    "## Finding 95% confidence interval"
   ]
  },
  {
   "cell_type": "code",
   "execution_count": null,
   "metadata": {},
   "outputs": [],
   "source": [
    "clear ri_ci\n",
    "tau0 = 0;\n",
    "tic\n",
    "[pval ,CI,~,~,Q_UB, Q_LB ] = ri_ci(DATA,{'y'},{'t'}, T0, R ,'FindCI',true);\n",
    "toc\n",
    "\n",
    "pval\n",
    "CI "
   ]
  },
  {
   "cell_type": "code",
   "execution_count": null,
   "metadata": {},
   "outputs": [],
   "source": [
    "[Q_UB, Q_LB]"
   ]
  },
  {
   "cell_type": "code",
   "execution_count": null,
   "metadata": {},
   "outputs": [],
   "source": [
    "figure(3)\n",
    "clf\n",
    "hax = axes;\n",
    "hold on\n",
    "scatter(Q_UB(:,1),Q_UB(:,2))\n",
    "scatter(Q_LB(:,1),Q_LB(:,2))\n",
    "line([CI(1) CI(1)],get(hax,'YLim'),'Color','red'); % [0 1])\n",
    "line([CI(2) CI(2)],get(hax,'YLim'),'Color','red'); % [0 1])\n",
    "hold off"
   ]
  },
  {
   "cell_type": "markdown",
   "metadata": {},
   "source": [
    "## Functionality with estimation commands other than `lm()`"
   ]
  },
  {
   "cell_type": "markdown",
   "metadata": {},
   "source": [
    "When using estimation commands other than `lm()`, we will use 10 times the asymptotic confidence interval for OLS, assuming independent and homoskedastic errors, to define the search region, if the search region is not supplied by the user."
   ]
  },
  {
   "cell_type": "markdown",
   "metadata": {},
   "source": [
    "###  Use with `rereg()` for random effects."
   ]
  },
  {
   "cell_type": "markdown",
   "metadata": {},
   "source": [
    "To demonstrate how this can be used with `rereg()`, we will simluate data with cluster-randomized assignment.  Let there be groups $g=1,\\ldots,G$, with $G=200$, and observations indexed by $\\{ig\\}$ with $n=5$ observations per group.\n",
    "\n",
    "Let $y_{0,ig} = e_{0,g} + e_{0,ig}$ with each error term $\\sim N(0,1)$.\n",
    "\n",
    "Let the treatment effect, $\\tau=1$, and $y_{1,ig}=y_{0,ig}+\\tau$ for all $i,g$.\n",
    "\n",
    "Observed outcomes are given by the _switching regression_ $y_{ig} = y_{0,ig} + (y_{1,ig} - y_{0,ig})  t_{ig} = y_{0,ig} + \\tau t_{ig}$"
   ]
  },
  {
   "cell_type": "code",
   "execution_count": 1,
   "metadata": {},
   "outputs": [
    {
     "name": "stdout",
     "output_type": "stream",
     "text": [
      "\n"
     ]
    }
   ],
   "source": [
    "R = 100 ; % number of alternative permutations of the treatment assignment to be usedtau = 1 ;"
   ]
  },
  {
   "cell_type": "code",
   "execution_count": 2,
   "metadata": {},
   "outputs": [
    {
     "name": "stdout",
     "output_type": "stream",
     "text": [
      "\n"
     ]
    }
   ],
   "source": [
    "const = 10 ; \n",
    "G=200;  % number of clusters\n",
    "n=5;    % number of observations/cluster\n",
    "t = (rand(G,1) >= 0.5 ) ; % treatment status\n",
    "T0 = (rand(G,R) >= 0.5) ; % set of potential randomizations\n",
    "x_g = randn(G,1) ; % observable at cluster level\n",
    "e_0g = randn(G,1) ; % error term at cluster level\n",
    "g = [1:G]';  % group index\n",
    "\n",
    "%  Expand all group-level datasets to the individual level\n",
    "t = kron(t,ones(n,1));\n",
    "T0 = kron(T0,ones(n,1));\n",
    "e_0g = kron(e_0g,ones(n,1));\n",
    "x_g = kron(x_g,ones(n,1));\n",
    "g = kron(g,ones(n,1));\n",
    "\n",
    "%  constant additive treatment effect\n",
    "tau = 1; \n",
    "\n",
    "%  remainder of DGP at individual level\n",
    "e_0i = randn(G*n,1);\n",
    "x_i = randn(G*n,1);\n",
    "y0 = const + x_g + x_i + e_0g + e_0i ;\n",
    "y1 = y0 + tau ;\n",
    "y = y0 + tau * t;\n",
    "\n",
    "%  Data to table, for passing to rereg.\n",
    "D = array2table([y,t,x_i,x_g,g],'VariableNames',{'y' 't' 'x_i' 'x_g' 'g'});"
   ]
  },
  {
   "cell_type": "markdown",
   "metadata": {},
   "source": [
    "**Demonstrating use of `rereg()`**.  Note that this estimator, as programmed, uses cluster-robust standard errors and makes a degrees-of-freedom correction to the variance-covariance matrix, as discussed in Greene (eq. 11.3)."
   ]
  },
  {
   "cell_type": "code",
   "execution_count": 4,
   "metadata": {},
   "outputs": [
    {
     "name": "stdout",
     "output_type": "stream",
     "text": [
      "\n",
      "lm = \n",
      "\n",
      "\n",
      "Linear regression model:\n",
      "    y ~ 1 + t + x_i + x_g\n",
      "\n",
      "Estimated Coefficients:\n",
      "                   Estimate       SE       tStat       pValue  \n",
      "                   ________    ________    ______    __________\n",
      "\n",
      "    (Intercept)     10.014     0.063958    156.58             0\n",
      "    t               1.0713     0.091154    11.752    5.8857e-30\n",
      "    x_i             1.0179     0.046196    22.034    5.8566e-88\n",
      "    x_g              1.131     0.043362    26.082    1.019e-114\n",
      "\n",
      "\n",
      "Number of observations: 1000, Error degrees of freedom: 996\n",
      "Root Mean Squared Error: 1.44\n",
      "R-squared: 0.557,  Adjusted R-Squared: 0.556\n",
      "F-statistic vs. constant model: 417, p-value = 1.47e-175\n",
      "\n",
      "re =\n",
      "\n",
      "  4x3 table\n",
      "\n",
      "                 beta        SE       tStat \n",
      "                ______    ________    ______\n",
      "\n",
      "    Constant    10.014     0.10417    96.131\n",
      "    t            1.071     0.15342     6.981\n",
      "    x_i         1.0341    0.037154    27.833\n",
      "    x_g         1.1313    0.070636    16.016\n",
      "\n",
      "\n"
     ]
    }
   ],
   "source": [
    "clear rereg\n",
    "lm = fitlm(D,'y~ t + x_i + x_g') % ([t x_g x_i ],y)\n",
    "%beta_re = rereg(y,[t , x_g, x_i],g)  % <- ols syntax:  assumes data are in arrays rather than tables.\n",
    "re = rereg(D,{'y'},{'t' 'x_i' 'x_g'},{'g'})"
   ]
  },
  {
   "cell_type": "markdown",
   "metadata": {},
   "source": [
    "**Demonstrate use of `ri_ci()` to obtain p-values for test of zero null with random effects estimation via `rereg`**"
   ]
  },
  {
   "cell_type": "code",
   "execution_count": 6,
   "metadata": {},
   "outputs": [
    {
     "name": "stdout",
     "output_type": "stream",
     "text": [
      "\n",
      "result =\n",
      "\n",
      "  2x3 table\n",
      "\n",
      "                 beta        SE       tStat \n",
      "                _______    _______    ______\n",
      "\n",
      "    Constant     9.8867    0.16877    58.581\n",
      "    t           0.95679    0.23223    4.1201\n",
      "\n",
      "\n",
      "pval =\n",
      "\n",
      "     0\n",
      "\n",
      "Elapsed time is 2.949630 seconds.\n",
      "\n"
     ]
    }
   ],
   "source": [
    "clear rereg\n",
    "clear ri_ci\n",
    "tic\n",
    "pval = ri_ci(D,{'y'},{'t'}, T0, R,'Model','rereg','GroupVar',{'g'} )\n",
    "toc"
   ]
  },
  {
   "cell_type": "markdown",
   "metadata": {},
   "source": [
    "**Demonstrate use of `ri_ci()` to obtain confidence intervals with random effects estimation via `rereg`.**"
   ]
  },
  {
   "cell_type": "code",
   "execution_count": 7,
   "metadata": {},
   "outputs": [
    {
     "name": "stdout",
     "output_type": "stream",
     "text": [
      "\n",
      "result =\n",
      "\n",
      "  2x3 table\n",
      "\n",
      "                 beta        SE       tStat \n",
      "                _______    _______    ______\n",
      "\n",
      "    Constant     9.8867    0.16877    58.581\n",
      "    t           0.95679    0.23223    4.1201\n",
      "\n",
      "Elapsed time is 61.623643 seconds.\n",
      "\n"
     ]
    }
   ],
   "source": [
    "clear ri_ci\n",
    "tic\n",
    "[pval,CI,~,~,Q_UB, Q_LB ] = ri_ci(D,{'y'},{'t'}, T0, R ...\n",
    "    , 'Model', 'rereg', 'GroupVar',{'g'} ...\n",
    "    ,'FindCI',true ...\n",
    "    , 'TestZero', false ... % don't bother with p-value for tau=0\n",
    "    );\n",
    "toc"
   ]
  },
  {
   "cell_type": "code",
   "execution_count": 8,
   "metadata": {},
   "outputs": [
    {
     "name": "stdout",
     "output_type": "stream",
     "text": [
      "\n",
      "CI =\n",
      "\n",
      "    0.4323    1.5569\n",
      "\n",
      "\n",
      "ans =\n",
      "\n",
      "    3.2326         0   -1.3190         0\n",
      "    2.0947         0   -0.1811         0\n",
      "    1.5257    0.0400    0.3878         0\n",
      "    1.8102         0    0.6723    0.2000\n",
      "    1.6680         0    0.5301    0.0600\n",
      "    1.5969         0    0.4590    0.0600\n",
      "    1.5613    0.0200    0.4234    0.0200\n",
      "    1.5435    0.0400    0.4412    0.0600\n",
      "    1.5524    0.0400    0.4323    0.0600\n",
      "    1.5569    0.0400    0.4278    0.0200\n",
      "\n",
      "\n"
     ]
    },
    {
     "data": {
      "image/png": "[encoded data removed]",
      "text/plain": [
       "<IPython.core.display.Image object>"
      ]
     },
     "metadata": {},
     "output_type": "display_data"
    }
   ],
   "source": [
    "CI\n",
    "[Q_UB, Q_LB]\n",
    "figure(4)\n",
    "clf\n",
    "hax = axes;\n",
    "hold on\n",
    "scatter(Q_UB(:,1),Q_UB(:,2))\n",
    "scatter(Q_LB(:,1),Q_LB(:,2))\n",
    "line([CI(1) CI(1)],get(hax,'YLim'),'Color','red'); % [0 1])\n",
    "line([CI(2) CI(2)],get(hax,'YLim'),'Color','red'); % [0 1])\n",
    "hold off"
   ]
  },
  {
   "cell_type": "markdown",
   "metadata": {},
   "source": [
    "### Use with `kstest()` for Kolmogorov-Smirnov test statistic"
   ]
  },
  {
   "cell_type": "markdown",
   "metadata": {},
   "source": [
    "Getting a $p$-value only."
   ]
  },
  {
   "cell_type": "code",
   "execution_count": 10,
   "metadata": {},
   "outputs": [
    {
     "name": "stdout",
     "output_type": "stream",
     "text": [
      "\n",
      "TEST1 =\n",
      "\n",
      "    0.1934\n",
      "\n",
      "  Name       Size            Bytes  Class     Attributes\n",
      "\n",
      "  TEST1      1x1                 8  double              \n",
      "\n",
      "Elapsed time is 0.128419 seconds.\n",
      "\n"
     ]
    }
   ],
   "source": [
    "clear ri_ci\n",
    "tic\n",
    "[pval ] = ri_ci(D,{'y'},{'t'}, T0, R ...\n",
    "    , 'Model', 'ks' ...\n",
    "    , 'TestZero', true ... \n",
    "    , 'FindCI', false ...\n",
    "    );\n",
    "toc\n"
   ]
  },
  {
   "cell_type": "markdown",
   "metadata": {},
   "source": [
    "Finding the 95 percent confidence interval"
   ]
  },
  {
   "cell_type": "code",
   "execution_count": 11,
   "metadata": {},
   "outputs": [
    {
     "name": "stderr",
     "output_type": "stream",
     "text": [
      "\u001b[1;31m\n",
      "  File C:\\Program Files\\MATLAB\\R2019a\\toolbox\\stats\\stats\\kstest2.m, line 111, in kstest2\n",
      "\n",
      "  File D:\\GitHub\\RI_CI\\m\\ri_ci.m, line 305, in ri_estimates\n",
      "\n",
      "  File D:\\GitHub\\RI_CI\\m\\ri_ci.m, line 139, in ri_ci\n",
      "Sample vector X1 contains no data.\n",
      "\n",
      "\u001b[0m"
     ]
    },
    {
     "ename": "Error",
     "evalue": -1,
     "output_type": "error",
     "traceback": "\n  File C:\\Program Files\\MATLAB\\R2019a\\toolbox\\stats\\stats\\kstest2.m, line 111, in kstest2\n\n  File D:\\GitHub\\RI_CI\\m\\ri_ci.m, line 305, in ri_estimates\n\n  File D:\\GitHub\\RI_CI\\m\\ri_ci.m, line 139, in ri_ci\nSample vector X1 contains no data.\n"
    }
   ],
   "source": [
    "\n",
    "clear ri_ci\n",
    "tic\n",
    "[pval ,~,~,~,CI,Q_UB,Q_LB] = ri_ci(D,{'y'},{'t'}, T0, R ...\n",
    "    , 'Model', 'ks' ...\n",
    "    , 'TestZero', true ... % don't bother with p-value for tau=0\n",
    "    , 'FindCI', true ...\n",
    "    );  % ,~,~,~,CI ,Q_UB, Q_LB \n",
    "toc"
   ]
  },
  {
   "cell_type": "markdown",
   "metadata": {},
   "source": [
    "Illustrating the search process for the 95 percent confidence interval."
   ]
  },
  {
   "cell_type": "code",
   "execution_count": null,
   "metadata": {},
   "outputs": [],
   "source": [
    "[Q_UB, Q_LB]\n",
    "\n",
    "figure(5)\n",
    "clf\n",
    "hax = axes;\n",
    "hold on\n",
    "scatter(Q_UB(:,1),Q_UB(:,2))\n",
    "scatter(Q_LB(:,1),Q_LB(:,2))\n",
    "line([CI(1) CI(1)],get(hax,'YLim'),'Color','red'); % [0 1])\n",
    "line([CI(2) CI(2)],get(hax,'YLim'),'Color','red'); % [0 1])\n",
    "hold off"
   ]
  }
 ],
 "metadata": {
  "kernelspec": {
   "display_name": "Matlab",
   "language": "matlab",
   "name": "matlab"
  },
  "language_info": {
   "codemirror_mode": "octave",
   "file_extension": ".m",
   "help_links": [
    {
     "text": "MetaKernel Magics",
     "url": "https://metakernel.readthedocs.io/en/latest/source/README.html"
    }
   ],
   "mimetype": "text/x-octave",
   "name": "matlab",
   "version": "0.16.4"
  }
 },
 "nbformat": 4,
 "nbformat_minor": 2
}
