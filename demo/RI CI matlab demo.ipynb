{
 "cells": [
  {
   "cell_type": "markdown",
   "metadata": {},
   "source": [
    "# Demonstration and unit-testing `ri_ci` for Matlab\n",
    "\n",
    "This file was tested on Matlab version 2019b, using the Jupyter `matlab_kernel`."
   ]
  },
  {
   "cell_type": "markdown",
   "metadata": {},
   "source": [
    "###  Matlab preliminaries"
   ]
  },
  {
   "cell_type": "code",
   "execution_count": 3,
   "metadata": {},
   "outputs": [
    {
     "name": "stdout",
     "output_type": "stream",
     "text": [
      "\n"
     ]
    }
   ],
   "source": [
    "rng('default'); % set seed for replicability\n",
    "addpath('../m'); % assumes we are in the /demo/ folder as pwd"
   ]
  },
  {
   "cell_type": "code",
   "execution_count": 4,
   "metadata": {},
   "outputs": [
    {
     "name": "stdout",
     "output_type": "stream",
     "text": [
      "\n"
     ]
    }
   ],
   "source": [
    "%  Parameters of the simulation\n",
    "N = 1000; % number of observations\n",
    "R = 500 ; % number of alternative permutations of the treatment assignment to be used\n",
    "tau = 1 ; % treatment effect"
   ]
  },
  {
   "cell_type": "code",
   "execution_count": null,
   "metadata": {},
   "outputs": [],
   "source": [
    "%  Generate data \n",
    "x = randn(N,1);\n",
    "y0 = x + randn(N,1);\n",
    "y1 = y0 + tau;\n",
    "t = (rand(N,1) >= 0.5 ) ; % treatment status\n",
    "y = y0 + t.*(y1 - y0) ; % switching regression\n",
    "T0 = (rand(N,R) >= 0.5) ; % set of potential randomizations\n",
    "DATA = array2table([y,t,x] , 'VariableNames',{'y','t','x'});"
   ]
  },
  {
   "cell_type": "markdown",
   "metadata": {
    "heading_collapsed": true
   },
   "source": [
    "##  Testing specific sharp nulls"
   ]
  },
  {
   "cell_type": "markdown",
   "metadata": {
    "hidden": true
   },
   "source": [
    "###  Testing null that $\\tau_0 = 0$"
   ]
  },
  {
   "cell_type": "code",
   "execution_count": null,
   "metadata": {
    "hidden": true
   },
   "outputs": [],
   "source": [
    "clear ri_ci\n",
    "tau0 = 0;\n",
    "[pval t1 t0] = ri_ci(DATA,{'y'},{'t'},tau0, T0, R ,'ShowMainEstimates',true);\n",
    "%scatter(y0,y0star) % confirm this recovers the true y0\n",
    "\n",
    "figure(1)\n",
    "clf\n",
    "hax = axes;\n",
    "hold on\n",
    "ksdensity(t0) % distribution of test statistic under the null.\n",
    "line([t1 t1],get(hax,'YLim'),'Color','red'); % [0 1])\n",
    "legend('Distribution under null','Estimated test statistic')\n",
    "hold off"
   ]
  },
  {
   "cell_type": "markdown",
   "metadata": {
    "hidden": true
   },
   "source": [
    "Illustrating one-sided versions of this hypothesis:"
   ]
  },
  {
   "cell_type": "code",
   "execution_count": null,
   "metadata": {
    "hidden": true
   },
   "outputs": [],
   "source": [
    "clear ri_ci\n",
    "leftprob = ri_ci(DATA,{'y'},{'t'},0, T0, 100,'TestSide','lefttail')\n",
    "rightprob = ri_ci(DATA,{'y'},{'t'},0, T0, 100,'TestSide','righttail')"
   ]
  },
  {
   "cell_type": "markdown",
   "metadata": {
    "hidden": true
   },
   "source": [
    "###  Testing sharp nulls of non-zero treatment effects (e.g., $\\tau_0=1$)\n",
    "\n",
    "_Note:_  Model displays primary estimates that are the basis of analytic standard errors; p-values in that table correspond to test that $\\tau_0=0$."
   ]
  },
  {
   "cell_type": "code",
   "execution_count": null,
   "metadata": {
    "hidden": true
   },
   "outputs": [],
   "source": [
    "clear ri_ci\n",
    "tau0 = 1;\n",
    "[pval t1 t0] = ri_ci(DATA,{'y'},{'t'},tau0, T0, 100);\n",
    "%scatter(y0,y0star) % confirm this recovers the true y0\n",
    "\n",
    "figure(2)\n",
    "clf\n",
    "hax = axes;\n",
    "hold on\n",
    "ksdensity(t0) % distribution of test statistic under the null.\n",
    "line([t1 t1],get(hax,'YLim'),'Color','red'); % [0 1])\n",
    "legend('Distribution under null','Estimated test statistic')\n",
    "hold off"
   ]
  },
  {
   "cell_type": "markdown",
   "metadata": {
    "heading_collapsed": true
   },
   "source": [
    "## Finding 95% confidence interval"
   ]
  },
  {
   "cell_type": "code",
   "execution_count": null,
   "metadata": {
    "hidden": true
   },
   "outputs": [],
   "source": [
    "clear ri_ci\n",
    "tau0 = 0;\n",
    "tic\n",
    "[pval ,~,~,~,CI ,Q_UB, Q_LB ] = ri_ci(DATA,{'y'},{'t'},tau0, T0, R ,'FindCI',true);\n",
    "toc\n",
    "\n",
    "pval\n",
    "CI "
   ]
  },
  {
   "cell_type": "code",
   "execution_count": null,
   "metadata": {
    "hidden": true
   },
   "outputs": [],
   "source": [
    "[Q_UB, Q_LB]"
   ]
  },
  {
   "cell_type": "code",
   "execution_count": null,
   "metadata": {
    "hidden": true
   },
   "outputs": [],
   "source": [
    "figure(3)\n",
    "clf\n",
    "hax = axes;\n",
    "hold on\n",
    "scatter(Q_UB(:,1),Q_UB(:,2))\n",
    "scatter(Q_LB(:,1),Q_LB(:,2))\n",
    "line([CI(1) CI(1)],get(hax,'YLim'),'Color','red'); % [0 1])\n",
    "line([CI(2) CI(2)],get(hax,'YLim'),'Color','red'); % [0 1])\n",
    "hold off"
   ]
  },
  {
   "cell_type": "markdown",
   "metadata": {},
   "source": [
    "## Functionality with estimation commands other than `lm()`"
   ]
  },
  {
   "cell_type": "markdown",
   "metadata": {},
   "source": [
    "When using estimation commands other than `lm()`, we will use 10 times the asymptotic confidence interval for OLS, assuming independent and homoskedastic errors, to define the search region, if the search region is not supplied by the user."
   ]
  },
  {
   "cell_type": "markdown",
   "metadata": {},
   "source": [
    "###  Use with `rereg()` for random effects."
   ]
  },
  {
   "cell_type": "markdown",
   "metadata": {},
   "source": [
    "To demonstrate how this can be used with `rereg()`, we will simluate data with cluster-randomized assignment.  Let there be groups $g=1,\\ldots,G$, with $G=200$, and observations indexed by $\\{ig\\}$ with $n=5$ observations per group.\n",
    "\n",
    "Let $y_{0,ig} = e_{0,g} + e_{0,ig}$ with each error term $\\sim N(0,1)$.\n",
    "\n",
    "Let the treatment effect, $\\tau=1$, and $y_{1,ig}=y_{0,ig}+\\tau$ for all $i,g$.\n",
    "\n",
    "Observed outcomes are given by the _switching regression_ $y_{ig} = y_{0,ig} + (y_{1,ig} - y_{0,ig})  t_{ig} = y_{0,ig} + \\tau t_{ig}$"
   ]
  },
  {
   "cell_type": "code",
   "execution_count": 5,
   "metadata": {},
   "outputs": [
    {
     "name": "stdout",
     "output_type": "stream",
     "text": [
      "\n"
     ]
    }
   ],
   "source": [
    "R = 500 ; % number of alternative permutations of the treatment assignment to be usedtau = 1 ;\n",
    "const = 10 ; \n",
    "G=200;  % number of clusters\n",
    "n=5;    % number of observations/cluster\n",
    "t = (rand(G,1) >= 0.5 ) ; % treatment status\n",
    "T0 = (rand(G,R) >= 0.5) ; % set of potential randomizations\n",
    "x_g = randn(G,1) ; % observable at cluster level\n",
    "e_0g = randn(G,1) ; % error term at cluster level\n",
    "g = [1:G]';  % group index\n",
    "\n",
    "%  Expand all group-level datasets to the individual level\n",
    "t = kron(t,ones(n,1));\n",
    "T0 = kron(T0,ones(n,1));\n",
    "e_0g = kron(e_0g,ones(n,1));\n",
    "x_g = kron(x_g,ones(n,1));\n",
    "g = kron(g,ones(n,1));\n",
    "\n",
    "%  constant additive treatment effect\n",
    "tau = 1; \n",
    "\n",
    "%  remainder of DGP at individual level\n",
    "e_0i = randn(G*n,1);\n",
    "x_i = randn(G*n,1);\n",
    "y0 = const + x_g + x_i + e_0g + e_0i ;\n",
    "y1 = y0 + tau ;\n",
    "y = y0 + tau * t;\n",
    "\n",
    "%  Data to table, for passing to rereg.\n",
    "D = array2table([y,t,x_i,x_g,g],'VariableNames',{'y' 't' 'x_i' 'x_g' 'g'});"
   ]
  },
  {
   "cell_type": "markdown",
   "metadata": {},
   "source": [
    "**Demonstrating use of `rereg()`**.  Note that this estimator, as programmed, uses cluster-robust standard errors and makes a degrees-of-freedom correction to the variance-covariance matrix, as discussed in Greene (eq. 11.3)."
   ]
  },
  {
   "cell_type": "code",
   "execution_count": 6,
   "metadata": {},
   "outputs": [
    {
     "name": "stdout",
     "output_type": "stream",
     "text": [
      "\n",
      "lm = \n",
      "\n",
      "\n",
      "Linear regression model:\n",
      "    y ~ 1 + t + x_i + x_g\n",
      "\n",
      "Estimated Coefficients:\n",
      "                   Estimate       SE       tStat       pValue   \n",
      "                   ________    ________    ______    ___________\n",
      "\n",
      "    (Intercept)     10.075     0.061873    162.83              0\n",
      "    t              0.75267     0.088409    8.5134     6.1508e-17\n",
      "    x_i             1.0242     0.042186    24.278    1.1984e-102\n",
      "    x_g             1.0494     0.042443    24.725    1.2785e-105\n",
      "\n",
      "\n",
      "Number of observations: 1000, Error degrees of freedom: 996\n",
      "Root Mean Squared Error: 1.4\n",
      "R-squared: 0.56,  Adjusted R-Squared: 0.558\n",
      "F-statistic vs. constant model: 422, p-value = 7.35e-177\n",
      "\n",
      "re =\n",
      "\n",
      "  4x3 table\n",
      "\n",
      "                 beta         SE       tStat \n",
      "                _______    ________    ______\n",
      "\n",
      "    Constant     10.075     0.10526    95.716\n",
      "    t           0.75161     0.15355    4.8949\n",
      "    x_i          1.0462    0.033048    31.658\n",
      "    x_g          1.0501    0.073339    14.318\n",
      "\n",
      "\n"
     ]
    }
   ],
   "source": [
    "clear rereg\n",
    "lm = fitlm(D,'y~ t + x_i + x_g') % ([t x_g x_i ],y)\n",
    "%beta_re = rereg(y,[t , x_g, x_i],g)  % <- ols syntax:  assumes data are in arrays rather than tables.\n",
    "re = rereg(D,{'y'},{'t' 'x_i' 'x_g'},{'g'})"
   ]
  },
  {
   "cell_type": "markdown",
   "metadata": {},
   "source": [
    "**NEXT:  INCORPORATE REREG() INTO RI_CI().**\n",
    "1. Allow Wilkinson notation for model specification.\n",
    "2. Extract coefficients, t-stats, etc."
   ]
  },
  {
   "cell_type": "code",
   "execution_count": 7,
   "metadata": {},
   "outputs": [
    {
     "name": "stdout",
     "output_type": "stream",
     "text": [
      "\n",
      "ans =\n",
      "\n",
      "  1x5 cell array\n",
      "\n",
      "    {'y'}    {'t'}    {'x_i'}    {'x_g'}    {'g'}\n",
      "\n",
      "\n"
     ]
    }
   ],
   "source": [
    "D.Properties.VariableNames"
   ]
  },
  {
   "cell_type": "code",
   "execution_count": 8,
   "metadata": {},
   "outputs": [],
   "source": [
    "clear rereg\n",
    "clear ri_ci\n",
    "pval = ri_ci(D,{'y'},{'t'},0, T0, 10,'Model','rereg','GroupVar',{'g'} ); % is the problem here that groupvar needs to be passed to rereg as the name of a variable, not as an actual vector/array?"
   ]
  },
  {
   "cell_type": "code",
   "execution_count": null,
   "metadata": {},
   "outputs": [],
   "source": [
    "foo = array2table([1,2;3,4],'RowNames',{'a' 'b'},'VariableNames',{'c' 'd'});\n",
    "therow = {'a'};\n",
    "thecolumn = {'d'};\n",
    "foo(therow,thecolumn)"
   ]
  },
  {
   "cell_type": "markdown",
   "metadata": {},
   "source": [
    "### Use with `kstest()` for Kolmogorov-Smirnov test statistic"
   ]
  },
  {
   "cell_type": "code",
   "execution_count": null,
   "metadata": {},
   "outputs": [],
   "source": []
  }
 ],
 "metadata": {
  "kernelspec": {
   "display_name": "Matlab",
   "language": "matlab",
   "name": "matlab"
  },
  "language_info": {
   "codemirror_mode": "octave",
   "file_extension": ".m",
   "help_links": [
    {
     "text": "MetaKernel Magics",
     "url": "https://metakernel.readthedocs.io/en/latest/source/README.html"
    }
   ],
   "mimetype": "text/x-octave",
   "name": "matlab",
   "version": "0.16.4"
  }
 },
 "nbformat": 4,
 "nbformat_minor": 2
}
