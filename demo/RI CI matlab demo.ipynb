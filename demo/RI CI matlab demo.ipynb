{
 "cells": [
  {
   "cell_type": "markdown",
   "metadata": {},
   "source": [
    "# Demonstration and unit-testing `ri_ci` for Matlab\n",
    "\n",
    "This file was tested on Matlab version 2019b, using the Jupyter `matlab_kernel`."
   ]
  },
  {
   "cell_type": "markdown",
   "metadata": {},
   "source": [
    "###  Matlab preliminaries"
   ]
  },
  {
   "cell_type": "code",
   "execution_count": 3,
   "metadata": {},
   "outputs": [
    {
     "name": "stdout",
     "output_type": "stream",
     "text": [
      "\n"
     ]
    }
   ],
   "source": [
    "rng('default'); % set seed for replicability\n",
    "addpath('../m'); % assumes we are in the /demo/ folder as pwd"
   ]
  },
  {
   "cell_type": "code",
   "execution_count": 4,
   "metadata": {},
   "outputs": [
    {
     "name": "stdout",
     "output_type": "stream",
     "text": [
      "\n"
     ]
    }
   ],
   "source": [
    "%  Parameters of the simulation\n",
    "N = 1000; % number of observations\n",
    "R = 500 ; % number of alternative permutations of the treatment assignment to be used\n",
    "tau = 1 ; % treatment effect"
   ]
  },
  {
   "cell_type": "code",
   "execution_count": null,
   "metadata": {},
   "outputs": [],
   "source": [
    "%  Generate data \n",
    "x = randn(N,1);\n",
    "y0 = x + randn(N,1);\n",
    "y1 = y0 + tau;\n",
    "t = (rand(N,1) >= 0.5 ) ; % treatment status\n",
    "y = y0 + t.*(y1 - y0) ; % switching regression\n",
    "T0 = (rand(N,R) >= 0.5) ; % set of potential randomizations\n",
    "DATA = array2table([y,t,x] , 'VariableNames',{'y','t','x'});"
   ]
  },
  {
   "cell_type": "markdown",
   "metadata": {
    "heading_collapsed": true
   },
   "source": [
    "##  Testing specific sharp nulls"
   ]
  },
  {
   "cell_type": "markdown",
   "metadata": {
    "hidden": true
   },
   "source": [
    "###  Testing null that $\\tau_0 = 0$"
   ]
  },
  {
   "cell_type": "code",
   "execution_count": null,
   "metadata": {
    "hidden": true
   },
   "outputs": [],
   "source": [
    "clear ri_ci\n",
    "tau0 = 0;\n",
    "[pval t1 t0] = ri_ci(DATA,{'y'},{'t'},tau0, T0, R ,'ShowMainEstimates',true);\n",
    "%scatter(y0,y0star) % confirm this recovers the true y0\n",
    "\n",
    "figure(1)\n",
    "clf\n",
    "hax = axes;\n",
    "hold on\n",
    "ksdensity(t0) % distribution of test statistic under the null.\n",
    "line([t1 t1],get(hax,'YLim'),'Color','red'); % [0 1])\n",
    "legend('Distribution under null','Estimated test statistic')\n",
    "hold off"
   ]
  },
  {
   "cell_type": "markdown",
   "metadata": {
    "hidden": true
   },
   "source": [
    "Illustrating one-sided versions of this hypothesis:"
   ]
  },
  {
   "cell_type": "code",
   "execution_count": null,
   "metadata": {
    "hidden": true
   },
   "outputs": [],
   "source": [
    "clear ri_ci\n",
    "leftprob = ri_ci(DATA,{'y'},{'t'},0, T0, 100,'TestSide','lefttail')\n",
    "rightprob = ri_ci(DATA,{'y'},{'t'},0, T0, 100,'TestSide','righttail')"
   ]
  },
  {
   "cell_type": "markdown",
   "metadata": {
    "hidden": true
   },
   "source": [
    "###  Testing sharp nulls of non-zero treatment effects (e.g., $\\tau_0=1$)\n",
    "\n",
    "_Note:_  Model displays primary estimates that are the basis of analytic standard errors; p-values in that table correspond to test that $\\tau_0=0$."
   ]
  },
  {
   "cell_type": "code",
   "execution_count": null,
   "metadata": {
    "hidden": true
   },
   "outputs": [],
   "source": [
    "clear ri_ci\n",
    "tau0 = 1;\n",
    "[pval t1 t0] = ri_ci(DATA,{'y'},{'t'},tau0, T0, 100);\n",
    "%scatter(y0,y0star) % confirm this recovers the true y0\n",
    "\n",
    "figure(2)\n",
    "clf\n",
    "hax = axes;\n",
    "hold on\n",
    "ksdensity(t0) % distribution of test statistic under the null.\n",
    "line([t1 t1],get(hax,'YLim'),'Color','red'); % [0 1])\n",
    "legend('Distribution under null','Estimated test statistic')\n",
    "hold off"
   ]
  },
  {
   "cell_type": "markdown",
   "metadata": {},
   "source": [
    "## Finding 95% confidence interval"
   ]
  },
  {
   "cell_type": "code",
   "execution_count": null,
   "metadata": {},
   "outputs": [],
   "source": [
    "clear ri_ci\n",
    "tau0 = 0;\n",
    "tic\n",
    "[pval ,~,~,~,CI ,Q_UB, Q_LB ] = ri_ci(DATA,{'y'},{'t'},tau0, T0, R ,'FindCI',true);\n",
    "toc\n",
    "\n",
    "pval\n",
    "CI "
   ]
  },
  {
   "cell_type": "code",
   "execution_count": null,
   "metadata": {},
   "outputs": [],
   "source": [
    "[Q_UB, Q_LB]"
   ]
  },
  {
   "cell_type": "code",
   "execution_count": null,
   "metadata": {},
   "outputs": [],
   "source": [
    "figure(3)\n",
    "clf\n",
    "hax = axes;\n",
    "hold on\n",
    "scatter(Q_UB(:,1),Q_UB(:,2))\n",
    "scatter(Q_LB(:,1),Q_LB(:,2))\n",
    "line([CI(1) CI(1)],get(hax,'YLim'),'Color','red'); % [0 1])\n",
    "line([CI(2) CI(2)],get(hax,'YLim'),'Color','red'); % [0 1])\n",
    "hold off"
   ]
  },
  {
   "cell_type": "markdown",
   "metadata": {},
   "source": [
    "## Functionality with estimation commands other than `lm()`"
   ]
  },
  {
   "cell_type": "markdown",
   "metadata": {},
   "source": [
    "When using estimation commands other than `lm()`, we will use 10 times the asymptotic confidence interval for OLS, assuming independent and homoskedastic errors, to define the search region, if the search region is not supplied by the user."
   ]
  },
  {
   "cell_type": "markdown",
   "metadata": {},
   "source": [
    "###  Use with `rereg()` for random effects."
   ]
  },
  {
   "cell_type": "markdown",
   "metadata": {},
   "source": [
    "To demonstrate how this can be used with `rereg()`, we will simluate data with cluster-randomized assignment.  Let there be groups $g=1,\\ldots,G$, with $G=200$, and observations indexed by $\\{ig\\}$ with $n=5$ observations per group.\n",
    "\n",
    "Let $y_{0,ig} = e_{0,g} + e_{0,ig}$ with each error term $\\sim N(0,1)$.\n",
    "\n",
    "Let the treatment effect, $\\tau=1$, and $y_{1,ig}=y_{0,ig}+\\tau$ for all $i,g$.\n",
    "\n",
    "Observed outcomes are given by the _switching regression_ $y_{ig} = y_{0,ig} + (y_{1,ig} - y_{0,ig})  t_{ig} = y_{0,ig} + \\tau t_{ig}$"
   ]
  },
  {
   "cell_type": "code",
   "execution_count": 21,
   "metadata": {},
   "outputs": [
    {
     "name": "stdout",
     "output_type": "stream",
     "text": [
      "\n"
     ]
    }
   ],
   "source": [
    "R = 500 ; % number of alternative permutations of the treatment assignment to be usedtau = 1 ;\n",
    "const = 10 ; \n",
    "G=200;  % number of clusters\n",
    "n=5;    % number of observations/cluster\n",
    "t = (rand(G,1) >= 0.5 ) ; % treatment status\n",
    "T0 = (rand(G,R) >= 0.5) ; % set of potential randomizations\n",
    "x_g = randn(G,1) ; % observable at cluster level\n",
    "e_0g = randn(G,1) ; % error term at cluster level\n",
    "g = [1:G]';  % group index\n",
    "\n",
    "%  Expand all group-level datasets to the individual level\n",
    "t = kron(t,ones(n,1));\n",
    "T0 = kron(T0,ones(n,1));\n",
    "e_0g = kron(e_0g,ones(n,1));\n",
    "x_g = kron(x_g,ones(n,1));\n",
    "g = kron(g,ones(n,1));\n",
    "\n",
    "%  constant additive treatment effect\n",
    "tau = 1; \n",
    "\n",
    "%  remainder of DGP at individual level\n",
    "e_0i = randn(G*n,1);\n",
    "x_i = randn(G*n,1);\n",
    "y0 = const + x_g + x_i + e_0g + e_0i ;\n",
    "y1 = y0 + tau ;\n",
    "y = y0 + tau * t;\n",
    "\n",
    "%  Data to table, for passing to rereg.\n",
    "D = array2table([y,t,x_i,x_g,g],'VariableNames',{'y' 't' 'x_i' 'x_g' 'g'});"
   ]
  },
  {
   "cell_type": "markdown",
   "metadata": {},
   "source": [
    "**Demonstrating use of `rereg()`**.  Note that this estimator, as programmed, uses cluster-robust standard errors and makes a degrees-of-freedom correction to the variance-covariance matrix, as discussed in Greene (eq. 11.3)."
   ]
  },
  {
   "cell_type": "code",
   "execution_count": 16,
   "metadata": {},
   "outputs": [
    {
     "name": "stdout",
     "output_type": "stream",
     "text": [
      "\n",
      "lm = \n",
      "\n",
      "\n",
      "Linear regression model:\n",
      "    y ~ 1 + t + x_i + x_g\n",
      "\n",
      "Estimated Coefficients:\n",
      "                   Estimate        SE        tStat        pValue   \n",
      "                   _________    ________    ________    ___________\n",
      "\n",
      "    (Intercept)       10.101    0.054664      184.79              0\n",
      "    t              0.0051798    0.082545    0.062751        0.94998\n",
      "    x_i               1.0397    0.040398      25.736    2.1561e-112\n",
      "    x_g              0.93816    0.040617      23.097     7.2355e-95\n",
      "\n",
      "\n",
      "Number of observations: 1000, Error degrees of freedom: 996\n",
      "Root Mean Squared Error: 1.29\n",
      "R-squared: 0.547,  Adjusted R-Squared: 0.546\n",
      "F-statistic vs. constant model: 401, p-value = 8.02e-171\n",
      "\n",
      "re =\n",
      "\n",
      "  4x3 table\n",
      "\n",
      "                  beta          SE        tStat  \n",
      "                _________    ________    ________\n",
      "\n",
      "    Constant       10.102     0.09848      102.58\n",
      "    t           0.0037693     0.13999    0.026925\n",
      "    x_i            1.0189    0.031458      32.389\n",
      "    x_g            0.9382    0.070318      13.342\n",
      "\n",
      "\n"
     ]
    }
   ],
   "source": [
    "clear rereg\n",
    "lm = fitlm(D,'y~ t + x_i + x_g') % ([t x_g x_i ],y)\n",
    "%beta_re = rereg(y,[t , x_g, x_i],g)  % <- ols syntax:  assumes data are in arrays rather than tables.\n",
    "re = rereg(D,{'y'},{'t' 'x_i' 'x_g'},{'g'})"
   ]
  },
  {
   "cell_type": "markdown",
   "metadata": {},
   "source": [
    "**Demonstrate use of `ri_ci()` to obtain p-values for test of zero null with random effects estimation via `rereg`**"
   ]
  },
  {
   "cell_type": "code",
   "execution_count": 17,
   "metadata": {},
   "outputs": [
    {
     "name": "stdout",
     "output_type": "stream",
     "text": [
      "\n",
      "result =\n",
      "\n",
      "  2x3 table\n",
      "\n",
      "                  beta        SE        tStat  \n",
      "                ________    _______    ________\n",
      "\n",
      "    Constant      10.187     0.1426      71.442\n",
      "    t           -0.18987    0.20696    -0.91745\n",
      "\n",
      "\n",
      "pval =\n",
      "\n",
      "    0.3160\n",
      "\n",
      "Elapsed time is 14.996889 seconds.\n",
      "\n"
     ]
    }
   ],
   "source": [
    "clear rereg\n",
    "clear ri_ci\n",
    "tic\n",
    "pval = ri_ci(D,{'y'},{'t'},0, T0, R,'Model','rereg','GroupVar',{'g'} )\n",
    "toc"
   ]
  },
  {
   "cell_type": "markdown",
   "metadata": {},
   "source": [
    "**Demonstrate use of `ri_ci()` to obtain confidence intervals with random effects estimation via `rereg`.**"
   ]
  },
  {
   "cell_type": "code",
   "execution_count": 22,
   "metadata": {},
   "outputs": [
    {
     "name": "stdout",
     "output_type": "stream",
     "text": [
      "\n",
      "result =\n",
      "\n",
      "  2x3 table\n",
      "\n",
      "                 beta       SE       tStat \n",
      "                ______    _______    ______\n",
      "\n",
      "    Constant    10.021    0.16344    61.314\n",
      "    t            1.127    0.23019    4.8961\n",
      "\n",
      "Elapsed time is 350.090129 seconds.\n",
      "\n",
      "pval =\n",
      "\n",
      "     0\n",
      "\n",
      "\n",
      "CI =\n",
      "\n",
      "    0.6380    1.5544\n",
      "\n",
      "\n"
     ]
    }
   ],
   "source": [
    "clear ri_ci\n",
    "tau0 = 0 ;\n",
    "tic\n",
    "[pval ,~,~,~,CI ,Q_UB, Q_LB ] = ri_ci(D,{'y'},{'t'},tau0, T0, R ...\n",
    "    , 'Model', 'rereg', 'GroupVar',{'g'} ...\n",
    "    ,'FindCI',true ...\n",
    "    , 'TestZero', false ... % don't bother with p-value for tau=0\n",
    "    );\n",
    "toc\n",
    "\n",
    "pval\n",
    "CI "
   ]
  },
  {
   "cell_type": "code",
   "execution_count": 24,
   "metadata": {},
   "outputs": [
    {
     "name": "stdout",
     "output_type": "stream",
     "text": [
      "\n",
      "ans =\n",
      "\n",
      "    3.3829         0   -1.1288         0\n",
      "    2.2550         0   -0.0009         0\n",
      "    1.6910    0.0120    0.5631         0\n",
      "    1.4090    0.1800    0.8451    0.2080\n",
      "    1.5500    0.0320    0.7041    0.0520\n",
      "    1.6205    0.0160    0.6336    0.0200\n",
      "    1.5853    0.0200    0.6688    0.0360\n",
      "    1.5676    0.0200    0.6512    0.0280\n",
      "    1.5588    0.0240    0.6424    0.0280\n",
      "    1.5544    0.0280    0.6380    0.0280\n",
      "\n",
      "\n"
     ]
    },
    {
     "data": {
      "image/png": "[encoded data removed]",
      "text/plain": [
       "<IPython.core.display.Image object>"
      ]
     },
     "metadata": {},
     "output_type": "display_data"
    }
   ],
   "source": [
    "[Q_UB, Q_LB]\n",
    "figure(4)\n",
    "clf\n",
    "hax = axes;\n",
    "hold on\n",
    "scatter(Q_UB(:,1),Q_UB(:,2))\n",
    "scatter(Q_LB(:,1),Q_LB(:,2))\n",
    "line([CI(1) CI(1)],get(hax,'YLim'),'Color','red'); % [0 1])\n",
    "line([CI(2) CI(2)],get(hax,'YLim'),'Color','red'); % [0 1])\n",
    "hold off"
   ]
  },
  {
   "cell_type": "markdown",
   "metadata": {},
   "source": [
    "### Use with `kstest()` for Kolmogorov-Smirnov test statistic"
   ]
  },
  {
   "cell_type": "code",
   "execution_count": 26,
   "metadata": {},
   "outputs": [
    {
     "name": "stderr",
     "output_type": "stream",
     "text": [
      "\u001b[1;31mError: Invalid expression. When calling a function or indexing a variable, use parentheses. Otherwise, check for mismatched delimiters.\n",
      "\n",
      "\u001b[0m"
     ]
    },
    {
     "ename": "Error",
     "evalue": -1,
     "output_type": "error",
     "traceback": "Error: Invalid expression. When calling a function or indexing a variable, use parentheses. Otherwise, check for mismatched delimiters.\n"
    }
   ],
   "source": [
    "clear ri_ci\n",
    "tau0 = 0 ;\n",
    "tic\n",
    "[pval ,~,~,~,CI ,Q_UB, Q_LB ] = ri_ci(D,{'y'},{'t'},tau0, T0, R ...\n",
    "    , 'Model', 'ks', ...\n",
    "    , 'FindCI', false ...\n",
    "    , 'TestZero', true ... \n",
    "    );\n",
    "toc"
   ]
  },
  {
   "cell_type": "code",
   "execution_count": null,
   "metadata": {},
   "outputs": [],
   "source": [
    "\n",
    "clear ri_ci\n",
    "tau0 = 0 ;\n",
    "tic\n",
    "[pval ,~,~,~,CI,Q_UB,Q_LB] = ri_ci(D,{'y'},{'t'},tau0, T0, R ...\n",
    "    , 'Model', 'ks' ...\n",
    "    , 'TestZero', true ... % don't bother with p-value for tau=0\n",
    "    , 'FindCI', true ...\n",
    "    );  % ,~,~,~,CI ,Q_UB, Q_LB \n",
    "toc"
   ]
  },
  {
   "cell_type": "code",
   "execution_count": null,
   "metadata": {},
   "outputs": [],
   "source": [
    "[Q_UB, Q_LB]\n",
    "\n",
    "figure(5)\n",
    "clf\n",
    "hax = axes;\n",
    "hold on\n",
    "scatter(Q_UB(:,1),Q_UB(:,2))\n",
    "scatter(Q_LB(:,1),Q_LB(:,2))\n",
    "line([CI(1) CI(1)],get(hax,'YLim'),'Color','red'); % [0 1])\n",
    "line([CI(2) CI(2)],get(hax,'YLim'),'Color','red'); % [0 1])\n",
    "hold off"
   ]
  }
 ],
 "metadata": {
  "kernelspec": {
   "display_name": "Matlab",
   "language": "matlab",
   "name": "matlab"
  },
  "language_info": {
   "codemirror_mode": "octave",
   "file_extension": ".m",
   "help_links": [
    {
     "text": "MetaKernel Magics",
     "url": "https://metakernel.readthedocs.io/en/latest/source/README.html"
    }
   ],
   "mimetype": "text/x-octave",
   "name": "matlab",
   "version": "0.16.4"
  }
 },
 "nbformat": 4,
 "nbformat_minor": 2
}
