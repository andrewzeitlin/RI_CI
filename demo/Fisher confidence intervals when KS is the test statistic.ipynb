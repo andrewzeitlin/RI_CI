{
 "cells": [
  {
   "cell_type": "markdown",
   "metadata": {},
   "source": [
    "# Constructing Fisher intervals when the KS statistic is the test statistic used in a permutation test\n",
    "\n",
    "This file was tested on Matlab version 2019b, using the Jupyter `matlab_kernel`.\n",
    "\n",
    "###  Matlab preliminaries"
   ]
  },
  {
   "cell_type": "code",
   "execution_count": 1,
   "metadata": {},
   "outputs": [
    {
     "name": "stdout",
     "output_type": "stream",
     "text": [
      "\n"
     ]
    }
   ],
   "source": [
    "rng('default'); % set seed for replicability\n",
    "addpath('../m'); % assumes we are in the /demo/ folder as pwd."
   ]
  },
  {
   "cell_type": "markdown",
   "metadata": {},
   "source": [
    "##  The basic problem"
   ]
  },
  {
   "cell_type": "markdown",
   "metadata": {},
   "source": [
    "How do we test a non-zero, sharp null hypothesis of an additive treatment effect $\\tau_0$, using a KS test?  \n",
    "\n",
    "Recall that when the hypothesized $\\tau_0=0$, then the standard randomization inference gives a permutation distribution for the KS statistic, and we conduct a _right tailed_ test that compares the actual estimate, $\\widehat{KS}$, to this distribution.\n",
    "\n",
    "On the other hand, when the null hypothesis in question is a non-zero (additive, say) treatment effect, $\\tau_0\\neq 0$, things are not quite so simple.  Following the usual Fisher logic, it is possible to construct a randomization distribution of the KS statistic under that null; call this $F(KS;\\tau_0)$.  But notice two complications.\n",
    "\n",
    "First, it is possible for the actual estimate $\\widehat{KS}$ to be 'unsusual' relative to the distribution $F(\\cdot)$ _either_ because it is too small, or because it is too large.  This seems incongruent for a test statistic that is intended for a one-sided test, and seems that it may lead to strange behavior when we switch from nulls of $\\tau_0=0$, in which case we use a one-sided test, to nulls of $\\tau_0 \\neq 0$, in which case we would use a two-sided test.\n",
    "\n",
    "Second and more fundamentally, the fact that the KS statistic is based on the **absolute value** of the (vertical) difference between CDFs means that $p$-values do not decrease monotonically as the hypothesized value gets farther from the truth.  This behavior is particularly problematic for the (common, useful) cases in which the CI spans zero (i.e., we have failed to reject the null of equality in distributions).  This is related to the inherent symmetry of the KS statistic.  \n",
    "\n",
    "We can show this below by creating data for $N=500$ observations, with $y_0 \\sim N(0,1)$, $y_1 = y_0 + \\tau$, and $\\tau=1$. Treatment, $T$, is assigned at random with probability 0.5.  \n"
   ]
  },
  {
   "cell_type": "code",
   "execution_count": 2,
   "metadata": {},
   "outputs": [
    {
     "name": "stdout",
     "output_type": "stream",
     "text": [
      "\n"
     ]
    }
   ],
   "source": [
    "N=500;\n",
    "y0 = randn(N,1);\n",
    "tau = 1; \n",
    "y1 = y0 + tau;\n",
    "T = (rand(N,1)>0.5);\n",
    "y = y0 + T.*(y1-y0);"
   ]
  },
  {
   "cell_type": "markdown",
   "metadata": {},
   "source": [
    "Now consider a range of candidate null hypotheses $\\tau_0 \\in [-1,3]$. "
   ]
  },
  {
   "cell_type": "code",
   "execution_count": 3,
   "metadata": {},
   "outputs": [
    {
     "name": "stdout",
     "output_type": "stream",
     "text": [
      "\n"
     ]
    }
   ],
   "source": [
    "TAU0 = [-2:0.1:2];"
   ]
  },
  {
   "cell_type": "markdown",
   "metadata": {},
   "source": [
    "For each of these we can generate a randomization distribution for the KS statistic $F(KS;\\tau_0)$, and we can collect either a one- or a two-sided $p$-value.  "
   ]
  },
  {
   "cell_type": "code",
   "execution_count": 4,
   "metadata": {},
   "outputs": [
    {
     "name": "stdout",
     "output_type": "stream",
     "text": [
      "\n"
     ]
    }
   ],
   "source": [
    "P_2tailed = NaN(size(TAU0));\n",
    "P_1tailed = NaN(size(TAU0));"
   ]
  },
  {
   "cell_type": "markdown",
   "metadata": {},
   "source": [
    "For speed we will use $R=100$ alternative assignments to generate this distribution. Let the $N\\times R$ matrix $T_0$ hold these alternative assignments."
   ]
  },
  {
   "cell_type": "code",
   "execution_count": 20,
   "metadata": {},
   "outputs": [
    {
     "name": "stdout",
     "output_type": "stream",
     "text": [
      "\n"
     ]
    }
   ],
   "source": [
    "R=100;\n",
    "T0 = (rand(N,R)>0.5);"
   ]
  },
  {
   "cell_type": "markdown",
   "metadata": {},
   "source": [
    "Loop over the hypothesized values of $\\tau$, and conduct RI for each."
   ]
  },
  {
   "cell_type": "code",
   "execution_count": 6,
   "metadata": {},
   "outputs": [
    {
     "name": "stdout",
     "output_type": "stream",
     "text": [
      "\n"
     ]
    }
   ],
   "source": [
    "[~,~,ks] = kstest2(y(T==1),y(T==0)); % this is the actual value of the KS statistic in the data.\n",
    "\n",
    "KS0 = NaN(R,length(TAU0)); % container for distributions of KS stats under each null"
   ]
  },
  {
   "cell_type": "code",
   "execution_count": 7,
   "metadata": {},
   "outputs": [
    {
     "name": "stdout",
     "output_type": "stream",
     "text": [
      "\n"
     ]
    }
   ],
   "source": [
    "% RI distributions\n",
    "for tt = 1:length(TAU0)\n",
    "    tau0 = TAU0(tt);\n",
    "    y0star = y - tau0*T;  % this would be y0 if the null were correct.\n",
    "    for rr = 1:R\n",
    "        ystar = y0star + tau0*T0(:,rr);  % this would be y if null were correct and assignement were T(:,rr) \n",
    "        [~,~,KS0(rr,tt)] = kstest2(ystar(T0(:,rr)==1),ystar(T0(:,rr)==0));\n",
    "    end\n",
    "end"
   ]
  },
  {
   "cell_type": "code",
   "execution_count": 8,
   "metadata": {},
   "outputs": [
    {
     "name": "stdout",
     "output_type": "stream",
     "text": [
      "\n"
     ]
    }
   ],
   "source": [
    "%  P-values\n",
    "P_1tailed = mean(KS0 > ks); \n",
    "P_2tailed = 2*min(mean(KS0>ks),mean(KS0<ks));"
   ]
  },
  {
   "cell_type": "code",
   "execution_count": 9,
   "metadata": {},
   "outputs": [
    {
     "name": "stdout",
     "output_type": "stream",
     "text": [
      "\n"
     ]
    },
    {
     "data": {
      "image/png": "[encoded data removed]",
      "text/plain": [
       "<IPython.core.display.Image object>"
      ]
     },
     "metadata": {},
     "output_type": "display_data"
    }
   ],
   "source": [
    "%  Plotting\n",
    "figure(1)\n",
    "clf \n",
    "hax = axes;\n",
    "hold on\n",
    "p1 =line(TAU0,P_1tailed, 'color','blue');\n",
    "p2 =line(TAU0,P_2tailed,'color','red');\n",
    "p3 =line([tau tau],get(hax,'YLim'),'color','green');\n",
    "legend([p1 p2 p3],{'One-tailed p-values','Two-tailed p-values','True \\tau'})\n",
    "xlabel('\\tau_0')\n",
    "ylabel('p-value')\n",
    "hold off"
   ]
  },
  {
   "cell_type": "markdown",
   "metadata": {},
   "source": [
    "Notice a few things about the above results:\n",
    "\n",
    "- For both test statistics, $p$-values are non-monotonic in distance from the true coefficient, when we cross a treatment effect of zero.\n",
    "- Clearly, the one-tailed p-values cannot be the basis for establishing a CI, since they are monotonically increasing in the hypothesized treatment effect, $\\tau_0$, even locally around the true coefficient of $\\tau=1$.\n",
    "- The two-tailed $p$-values are also asymmetric, even locally, around the truth.\n",
    "\n",
    "All in all, this looks deeply problematic for using the standard algorithm to construct confidence intervals when RI is conducted using the KS statistic."
   ]
  },
  {
   "cell_type": "markdown",
   "metadata": {},
   "source": [
    "##  A proposed solution"
   ]
  },
  {
   "cell_type": "markdown",
   "metadata": {},
   "source": [
    "Consider the following, alternative algorithm for testing the sharp null $\\tau_0$.\n",
    "\n",
    "1.  Construct $y_0^*(\\tau_0) = y - \\tau_0 T$, the potential outcome in the absence of treatment under this null.  \n",
    "2.  Compute a KS statistic comparing the distributions of $y_0^*(\\tau_0)$ for those who were in fact assigned to treatment to those who were in fact assigned to control: $y_0^*(\\tau_0;T=1)$ vs $y_0^*(\\tau_0;T=0)$. Call this $KS_0(\\tau_0; T)$.\n",
    "3.  For each of $R$ alternative permutations of the treatment, $T_r$, compute a KS statistic using the same computed values of $y_0^*$ (i.e., without adding back on the hypothesized treatment effect):  $y_0^*(\\tau_0,T_r=1)$ vs $y_0^*(\\tau_0;T_r=0)$. Call this $KS_0(\\tau_0,T_r)$.\n",
    "4.  The $p$-value for $\\tau_0$ is given by the share of draws, $r$,such that $KS_0(\\tau_0,T_r) > KS_0(\\tau_0,T)$. "
   ]
  },
  {
   "cell_type": "markdown",
   "metadata": {},
   "source": [
    "Some helpful features of this approach:\n",
    "\n",
    "- Because it is based on the distribution of the untreated potential outcome, $y_0$, if the null $\\tau_0$ is true, the two CDFs should lie on top of one another under the null. So, the usual two-sided KS statistic is appropriate to judge deviations from this.\n",
    "- When the null in question is the zero null $\\tau_0=0$, then this is identical to the procedure used in RI to test the null that the distributions are the same. So, if this test fails to reject, the CI will have to contain zero. In this sense, the CI should be consistent with the $p$-value for the sharp null that $\\tau_0=0$."
   ]
  },
  {
   "cell_type": "markdown",
   "metadata": {},
   "source": [
    "The key question is whether coverage is appropriate when the truth non-zero.  If we impose $\\tau_0=\\tau$, with $\\tau$ the true, additive treatment effect, will the test have exact coverage?"
   ]
  },
  {
   "cell_type": "code",
   "execution_count": 10,
   "metadata": {},
   "outputs": [
    {
     "name": "stdout",
     "output_type": "stream",
     "text": [
      "\n"
     ]
    }
   ],
   "source": [
    "%  Parameters\n",
    "N = 500; % number of observations\n",
    "S = 1000 ; % number of simulations\n",
    "R = 2000 ; % number of permutations of the treatment used in RI, within each simulation.\n",
    "\n",
    "tau = 1 ; % true treatment effect\n",
    "tau0 = 1 ; % hypothesized treatment effect."
   ]
  },
  {
   "cell_type": "code",
   "execution_count": 11,
   "metadata": {},
   "outputs": [
    {
     "name": "stdout",
     "output_type": "stream",
     "text": [
      "\n"
     ]
    }
   ],
   "source": [
    "KS1 = NaN(1,S); % container for actual estimates\n",
    "KS0 = NaN(R,S); % container distributions under the null\n",
    "\n",
    "for ss = 1:S \n",
    "    %  DGP \n",
    "    y0 = randn(N,1);\n",
    "    T = rand(N,1) > 0.5; \n",
    "    y = y0 + tau * T ;\n",
    "    \n",
    "    %  Alternative assignments of the treatment \n",
    "    T0 = rand(N,R) > 0.5;\n",
    "    \n",
    "    y0star = y - tau0*T ; % y0 under the null. In this case, it's exact.\n",
    "    [~,~,KS1(ss)] = kstest2(y0star(T==1),y0star(T==0)); % test statistic for actual assignment.\n",
    "    for rr = 1:R\n",
    "        [~,~,KS0(rr,ss)] = kstest2(y0star(T0(:,rr)==1),y0star(T0(:,rr)==0));    \n",
    "    end\n",
    "end"
   ]
  },
  {
   "cell_type": "code",
   "execution_count": 12,
   "metadata": {},
   "outputs": [
    {
     "name": "stdout",
     "output_type": "stream",
     "text": [
      "\n",
      "ans =\n",
      "\n",
      "    'The share rejected at the 5 pct level is 0.469'\n",
      "\n",
      "\n"
     ]
    }
   ],
   "source": [
    "%  Calculating rejection rates\n",
    "Pvalues = mean(KS0 >= repmat(KS1,[R,1]));\n",
    "sprintf('The share rejected at the 5 pct level is %0.3f',mean(Pvalues < 0.05))"
   ]
  },
  {
   "cell_type": "markdown",
   "metadata": {},
   "source": [
    "##  This proposed solution does not have the problem of non-monotonicity in $p$-values"
   ]
  },
  {
   "cell_type": "markdown",
   "metadata": {},
   "source": [
    "To see this, we can repeat the exercise above."
   ]
  },
  {
   "cell_type": "code",
   "execution_count": 14,
   "metadata": {},
   "outputs": [
    {
     "name": "stdout",
     "output_type": "stream",
     "text": [
      "\n"
     ]
    }
   ],
   "source": [
    "N=500;\n",
    "y0 = randn(N,1);\n",
    "tau = 1; \n",
    "y1 = y0 + tau;\n",
    "T = (rand(N,1)>0.5);\n",
    "y = y0 + T.*(y1-y0);"
   ]
  },
  {
   "cell_type": "code",
   "execution_count": 15,
   "metadata": {},
   "outputs": [
    {
     "name": "stdout",
     "output_type": "stream",
     "text": [
      "\n"
     ]
    }
   ],
   "source": [
    "R=400;\n",
    "T0 = (rand(N,R)>0.5);"
   ]
  },
  {
   "cell_type": "code",
   "execution_count": 16,
   "metadata": {},
   "outputs": [
    {
     "name": "stdout",
     "output_type": "stream",
     "text": [
      "\n"
     ]
    }
   ],
   "source": [
    "TAU0 = [-2:0.1:2];"
   ]
  },
  {
   "cell_type": "code",
   "execution_count": 17,
   "metadata": {},
   "outputs": [
    {
     "name": "stdout",
     "output_type": "stream",
     "text": [
      "\n"
     ]
    }
   ],
   "source": [
    "ks1 = NaN(size(TAU0));\n",
    "KS0 = NaN(R,length(TAU0)); % container for distributions of KS stats under each null"
   ]
  },
  {
   "cell_type": "code",
   "execution_count": 18,
   "metadata": {},
   "outputs": [
    {
     "name": "stdout",
     "output_type": "stream",
     "text": [
      "\n"
     ]
    }
   ],
   "source": [
    "% RI distributions\n",
    "for tt = 1:length(TAU0)\n",
    "    tau0 = TAU0(tt);\n",
    "    y0star = y - tau0*T;  % this would be y0 if the null were correct.\n",
    "    ks1(tt) = kstest2(y0star(T==1),y0star(T==0)); % KS statistic using the *actual* randomization.\n",
    "    for rr = 1:R\n",
    "        [~,~,KS0(rr,tt)] = kstest2(y0star(T0(:,rr)==1),y0star(T0(:,rr)==0));\n",
    "    end\n",
    "end"
   ]
  },
  {
   "cell_type": "code",
   "execution_count": 19,
   "metadata": {},
   "outputs": [
    {
     "name": "stdout",
     "output_type": "stream",
     "text": [
      "\n"
     ]
    },
    {
     "data": {
      "image/png": "[encoded data removed]",
      "text/plain": [
       "<IPython.core.display.Image object>"
      ]
     },
     "metadata": {},
     "output_type": "display_data"
    }
   ],
   "source": [
    "%  P-values\n",
    "Pvalues = mean(KS0 >= repmat(ks1,[R,1]));\n",
    "%  Plotting against hypothesized values of the treatment effect\n",
    "figure(3)\n",
    "clf\n",
    "hax = axes;\n",
    "hold on\n",
    "p1 = line(TAU0,Pvalues,'color','blue');\n",
    "p9 =line([tau tau],get(hax,'YLim'),'color','green');\n",
    "legend([p1 p9],{'p-values','True \\tau'})\n",
    "xlabel('\\tau_0')\n",
    "ylabel('p-value')\n",
    "hold off\n"
   ]
  },
  {
   "cell_type": "code",
   "execution_count": null,
   "metadata": {},
   "outputs": [],
   "source": []
  }
 ],
 "metadata": {
  "kernelspec": {
   "display_name": "Matlab",
   "language": "matlab",
   "name": "matlab"
  },
  "language_info": {
   "codemirror_mode": "octave",
   "file_extension": ".m",
   "help_links": [
    {
     "text": "MetaKernel Magics",
     "url": "https://metakernel.readthedocs.io/en/latest/source/README.html"
    }
   ],
   "mimetype": "text/x-octave",
   "name": "matlab",
   "version": "0.16.4"
  }
 },
 "nbformat": 4,
 "nbformat_minor": 2
}
