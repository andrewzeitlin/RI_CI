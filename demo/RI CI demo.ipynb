{
 "cells": [
  {
   "cell_type": "markdown",
   "metadata": {},
   "source": [
    "#  Demo file: RI confidence intervals"
   ]
  },
  {
   "cell_type": "code",
   "execution_count": 9,
   "metadata": {},
   "outputs": [],
   "source": [
    "%show_gui"
   ]
  },
  {
   "cell_type": "code",
   "execution_count": 13,
   "metadata": {},
   "outputs": [
    {
     "name": "stdout",
     "output_type": "stream",
     "text": [
      "\n",
      "\n",
      "  [1]              \"D:\\GitHub\\RI_CI/ado\"\n",
      "  [2]              \"ado\"\n",
      "  [3]  (BASE)      \"C:\\Program Files (x86)\\Stata15\\ado\\base/\"\n",
      "  [4]  (SITE)      \"C:\\Program Files (x86)\\Stata15\\ado\\site/\"\n",
      "  [5]              \".\"\n",
      "  [6]  (PERSONAL)  \"c:\\ado\\personal/\"\n",
      "  [7]  (PLUS)      \"c:\\ado\\plus/\"\n",
      "  [8]  (OLDPLACE)  \"c:\\ado/\"\n",
      "  [9]              \"C:\\Programs\\Anaconda3\\Lib\\site-packages\\stata_kernel\\ado\"\n"
     ]
    }
   ],
   "source": [
    "//  Some preliminaries for stata\n",
    "set seed 12345\n",
    "adopath ++`c(pwd)'/ado // add ado subdirectory to top of search path.  \n",
    "//  Assumes we are in root directory of the github repo"
   ]
  },
  {
   "cell_type": "markdown",
   "metadata": {},
   "source": [
    "##  Simulate some data"
   ]
  },
  {
   "cell_type": "markdown",
   "metadata": {},
   "source": [
    "Let's generate 500 observations according to the genrative model\n",
    "\\begin{align}\n",
    "y_0 &= e_0 \\\\\n",
    "y_1 &= y_0 + \\tau\n",
    "\\end{align}\n",
    "\n",
    "with $\\tau = 1$ and $e_0\\sim N(0,1)$"
   ]
  },
  {
   "cell_type": "code",
   "execution_count": 2,
   "metadata": {},
   "outputs": [
    {
     "name": "stdout",
     "output_type": "stream",
     "text": [
      "\n",
      "number of observations (_N) was 0, now 500\n",
      "\n",
      "\n",
      "\n"
     ]
    }
   ],
   "source": [
    "set obs 500\n",
    "global tau = 1\n",
    "ge y0 = rnormal()\n",
    "ge y1 = y0 + $tau"
   ]
  },
  {
   "cell_type": "markdown",
   "metadata": {},
   "source": [
    "Let treatment assignment be by simple randomization. We need to do two things:\n",
    "\n",
    "1. create a set of $R$ feasible randomizations, to feed into the RI machine and to feed into the DGP for observed outcomes; and \n",
    "2. generate observed outcome $y$ according to the switching regression \n",
    "    \\begin{equation}\n",
    "    y = y_0 + t(y_1 - y_0)\n",
    "    \\end{equation}"
   ]
  },
  {
   "cell_type": "code",
   "execution_count": 3,
   "metadata": {},
   "outputs": [],
   "source": [
    "global R = 1000"
   ]
  },
  {
   "cell_type": "code",
   "execution_count": 4,
   "metadata": {},
   "outputs": [],
   "source": [
    "ge t = (runiform() >= 0.5)\n",
    "ge y = y0 + t*(y1-y0)"
   ]
  },
  {
   "cell_type": "code",
   "execution_count": 5,
   "metadata": {},
   "outputs": [
    {
     "name": "stdout",
     "output_type": "stream",
     "text": [
      "\n",
      "\n",
      "\n",
      "\n",
      "\n",
      "\n",
      "file C:\\Users\\az332\\AppData\\Local\\Temp\\ST_2568_000001.tmp saved\n",
      "\n"
     ]
    }
   ],
   "source": [
    "ge i = _n // an identifier for observations, used later to merge potential treatments\n",
    "tempfile T0 \n",
    "preserve \n",
    "keep i \n",
    "forvalues r=1/$R {\n",
    "    ge t_`r' = (runiform() >= 0.5 )\n",
    "}\n",
    "save `T0'\n",
    "restore "
   ]
  },
  {
   "cell_type": "markdown",
   "metadata": {},
   "source": [
    "##  Estimate and get a p-value"
   ]
  },
  {
   "cell_type": "code",
   "execution_count": null,
   "metadata": {},
   "outputs": [],
   "source": [
    "ri_estimates, "
   ]
  },
  {
   "cell_type": "markdown",
   "metadata": {},
   "source": [
    "## Calculate CI"
   ]
  },
  {
   "cell_type": "code",
   "execution_count": null,
   "metadata": {},
   "outputs": [],
   "source": []
  }
 ],
 "metadata": {
  "kernelspec": {
   "display_name": "Stata",
   "language": "stata",
   "name": "stata"
  },
  "language_info": {
   "codemirror_mode": "stata",
   "file_extension": ".do",
   "mimetype": "text/x-stata",
   "name": "stata",
   "version": "15.1"
  }
 },
 "nbformat": 4,
 "nbformat_minor": 2
}
